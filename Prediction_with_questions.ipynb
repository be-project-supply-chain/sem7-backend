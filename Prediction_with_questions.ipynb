{
 "cells": [
  {
   "cell_type": "code",
   "execution_count": 49,
   "metadata": {
    "colab": {},
    "colab_type": "code",
    "id": "bEShcQL0PWs7"
   },
   "outputs": [],
   "source": [
    "d1=[]\n",
    "d2=[]\n",
    "d3=[]\n",
    "d4=[]\n",
    "d5=[]\n",
    "d6=[]\n",
    "d7=[]\n",
    "# d8=[]\n",
    "d9=[]\n",
    "d10=[]\n",
    "d11=[]\n",
    "d12=[]\n",
    "d13=[]\n",
    "d14=[]\n",
    "d15=[]\n",
    "d16=[]\n",
    "d17=[]"
   ]
  },
  {
   "cell_type": "code",
   "execution_count": null,
   "metadata": {
    "colab": {},
    "colab_type": "code",
    "id": "otvmKCJZ87Pl"
   },
   "outputs": [],
   "source": []
  },
  {
   "cell_type": "code",
   "execution_count": 50,
   "metadata": {
    "colab": {},
    "colab_type": "code",
    "id": "u0c_BoM3bsc4"
   },
   "outputs": [],
   "source": [
    "pow=[]\n",
    "pow.append('hey')"
   ]
  },
  {
   "cell_type": "code",
   "execution_count": 51,
   "metadata": {
    "colab": {},
    "colab_type": "code",
    "id": "FUp0lHG6cBgc"
   },
   "outputs": [],
   "source": [
    "pow.append('llll')"
   ]
  },
  {
   "cell_type": "code",
   "execution_count": 52,
   "metadata": {
    "colab": {
     "base_uri": "https://localhost:8080/",
     "height": 34
    },
    "colab_type": "code",
    "id": "Wwx54zDqcIgi",
    "outputId": "73a53258-0b1c-46dc-c064-16e963562169"
   },
   "outputs": [
    {
     "data": {
      "text/plain": [
       "['hey', 'llll']"
      ]
     },
     "execution_count": 52,
     "metadata": {},
     "output_type": "execute_result"
    }
   ],
   "source": [
    "pow"
   ]
  },
  {
   "cell_type": "code",
   "execution_count": 53,
   "metadata": {
    "colab": {},
    "colab_type": "code",
    "id": "-6NhMsodcQ1g"
   },
   "outputs": [],
   "source": [
    "low=[]\n",
    "low.append('kk')\n",
    "pow.extend(low)"
   ]
  },
  {
   "cell_type": "code",
   "execution_count": 54,
   "metadata": {
    "colab": {
     "base_uri": "https://localhost:8080/",
     "height": 34
    },
    "colab_type": "code",
    "id": "_RuzEoUgwzrk",
    "outputId": "f811b08b-b544-4990-b754-68285bf45cd7"
   },
   "outputs": [
    {
     "data": {
      "text/plain": [
       "True"
      ]
     },
     "execution_count": 54,
     "metadata": {},
     "output_type": "execute_result"
    }
   ],
   "source": [
    "\n",
    "k='llll' in pow\n",
    "k"
   ]
  },
  {
   "cell_type": "code",
   "execution_count": 55,
   "metadata": {
    "colab": {},
    "colab_type": "code",
    "id": "5OXcxyd4dsAI"
   },
   "outputs": [],
   "source": [
    "def output1(eight_hours_sleep,headache,depression,stress_personal_life_work_life):\n",
    "  if(eight_hours_sleep==2 and headache<=2 and depression<=2 and stress_personal_life_work_life<=2):\n",
    "    d1.append('Mental illness')\n",
    "  else :\n",
    "    d1.append('ok')\n",
    "  return d1\n",
    "\n",
    "\n",
    "    "
   ]
  },
  {
   "cell_type": "code",
   "execution_count": 56,
   "metadata": {
    "colab": {},
    "colab_type": "code",
    "id": "s2Uu3m26h1qP"
   },
   "outputs": [],
   "source": [
    "def output2(hours_sit,sit_straight,cushioned_chair_to_sit,sit_in_front_of_computer):\n",
    "  if(hours_sit<=3 and sit_straight==2 and cushioned_chair_to_sit==2 and sit_in_front_of_computer<=3):\n",
    "    d2.append('Back Pain')\n",
    "  else :\n",
    "    d2.append('ok')\n",
    "  return d2\n"
   ]
  },
  {
   "cell_type": "code",
   "execution_count": 57,
   "metadata": {
    "colab": {},
    "colab_type": "code",
    "id": "77Aqu2HgjBem"
   },
   "outputs": [],
   "source": [
    "def output3(headache,drinking_alchohol):\n",
    "  if(drinking_alchohol<=2 and headache==1):\n",
    "    d3.append('Stroke')\n",
    "  else :\n",
    "    d3.append('ok')\n",
    "  return d3"
   ]
  },
  {
   "cell_type": "code",
   "execution_count": 58,
   "metadata": {
    "colab": {},
    "colab_type": "code",
    "id": "DAV9u0aXjBnF"
   },
   "outputs": [],
   "source": [
    "def output4(smoking,junk_food,stress_personal_life_work_life):\n",
    "  if(smoking<=2 and junk_food<=2 and stress_personal_life_work_life==1):\n",
    "    d4.append('atherosclerosis')\n",
    "  else :\n",
    "    d4.append('ok')\n",
    "  return d4"
   ]
  },
  {
   "cell_type": "code",
   "execution_count": 59,
   "metadata": {
    "colab": {},
    "colab_type": "code",
    "id": "gZuip36-jBsu"
   },
   "outputs": [],
   "source": [
    "def output5(hours_walk_in_a_day,walk_to_workplace,exercise,junk_food):\n",
    "  if(hours_walk_in_a_day==1 and walk_to_workplace==1 and exercise==1 and junk_food<=2):\n",
    "    d5.append('Obesity')\n",
    "  else :\n",
    "    d5.append('ok')\n",
    "  return d5\n"
   ]
  },
  {
   "cell_type": "code",
   "execution_count": 60,
   "metadata": {
    "colab": {},
    "colab_type": "code",
    "id": "Y97ZBVwVjB0g"
   },
   "outputs": [],
   "source": [
    "def output6(smoking,drinking_alchohol,junk_food,stress_personal_life_work_life):\n",
    "  if(smoking<=2 and drinking_alchohol <=2 and junk_food<=2 and stress_personal_life_work_life==1):\n",
    "    d6.append('Heart Disease')\n",
    "  else :\n",
    "    d6.append('ok')\n",
    "  return d6"
   ]
  },
  {
   "cell_type": "code",
   "execution_count": 61,
   "metadata": {
    "colab": {},
    "colab_type": "code",
    "id": "aRjTw7psjB5_"
   },
   "outputs": [],
   "source": [
    "def output7(hours_walk_in_a_day,junk_food,exercise,stress_personal_life_work_life):\n",
    "  if(hours_walk_in_a_day==1 and junk_food<=2 and exercise==1 and stress_personal_life_work_life<=2):\n",
    "    d7.append('High Blood Pressure')\n",
    "  else :\n",
    "    d7.append('ok')\n",
    "  return d7"
   ]
  },
  {
   "cell_type": "code",
   "execution_count": 62,
   "metadata": {
    "colab": {},
    "colab_type": "code",
    "id": "jc1JWucGjB87"
   },
   "outputs": [],
   "source": [
    "\n",
    "# def output8(smoking,junk_food,stress_personal_life_work_life):\n",
    "#   if(smoking<=2 and junk_food<=2 and stress_personal_life_work_life<=2):\n",
    "#     d8.append('Atherosclerosis')\n",
    "#   else :\n",
    "#     d8.append('ok')\n",
    "#   return d8"
   ]
  },
  {
   "cell_type": "code",
   "execution_count": 63,
   "metadata": {
    "colab": {},
    "colab_type": "code",
    "id": "FSOfbz9wjB3u"
   },
   "outputs": [],
   "source": [
    "\n",
    "def output9(sit_in_traffic_jam):\n",
    "  if(sit_in_traffic_jam==1):\n",
    "    d9.append('Asthma')\n",
    "  else :\n",
    "    d9.append('ok')\n",
    "  return d9"
   ]
  },
  {
   "cell_type": "code",
   "execution_count": 64,
   "metadata": {
    "colab": {},
    "colab_type": "code",
    "id": "ewK6wTnBoMMK"
   },
   "outputs": [],
   "source": [
    "\n",
    "def output10(exercise,junk_food,sit_in_traffic_jam):\n",
    "  if(exercise==1 and junk_food<=2 and sit_in_traffic_jam==1):\n",
    "    d10.append('Chronic obstructive pulmonary disease,')\n",
    "  else :\n",
    "    d10.append('ok')\n",
    "  return d10"
   ]
  },
  {
   "cell_type": "code",
   "execution_count": 65,
   "metadata": {
    "colab": {},
    "colab_type": "code",
    "id": "WuUeDi3MoNIr"
   },
   "outputs": [],
   "source": [
    "\n",
    "def output11(eight_hours_sleep,junk_food,exercise,smoking):\n",
    "  if(eight_hours_sleep==2 and junk_food<=2 and exercise==1 and smoking<=2):\n",
    "    d11.append('Metabolic syndrome')\n",
    "  else :\n",
    "    d11.append('ok')\n",
    "  return d11"
   ]
  },
  {
   "cell_type": "code",
   "execution_count": 66,
   "metadata": {
    "colab": {},
    "colab_type": "code",
    "id": "tLS9US-1oPGY"
   },
   "outputs": [],
   "source": [
    "\n",
    "def output12(headache,tiredness):\n",
    "  if(headache<=2 and tiredness<=2):\n",
    "    d12.append('Chronic renal failure ')\n",
    "  else :\n",
    "    d12.append('ok')\n",
    "  return d12"
   ]
  },
  {
   "cell_type": "code",
   "execution_count": 67,
   "metadata": {
    "colab": {},
    "colab_type": "code",
    "id": "56kBbXM-oQNr"
   },
   "outputs": [],
   "source": [
    "\n",
    "def output13(smoking,drinking_alchohol,hours_sit,sit_straight,cushioned_chair_to_sit):\n",
    "  if(smoking<=2 and drinking_alchohol<=2 and hours_sit<=2 and sit_straight==2 and cushioned_chair_to_sit==2):\n",
    "    d13.append('Osteoporosis')\n",
    "  else :\n",
    "    d13.append('ok')\n",
    "  return d13"
   ]
  },
  {
   "cell_type": "code",
   "execution_count": 68,
   "metadata": {
    "colab": {},
    "colab_type": "code",
    "id": "5Rtof3rloRXk"
   },
   "outputs": [],
   "source": [
    "\n",
    "def output14(hours_spend_on_social_media,use_headphones_or_earphones_constantly):\n",
    "  if(hours_spend_on_social_media<=2 and use_headphones_or_earphones_constantly<=2):\n",
    "    d14.append('Swimmer’s ear')\n",
    "  else :\n",
    "    d14.append('ok')\n",
    "  return d14\n",
    "  "
   ]
  },
  {
   "cell_type": "code",
   "execution_count": 69,
   "metadata": {
    "colab": {},
    "colab_type": "code",
    "id": "yG5g4HqqpQit"
   },
   "outputs": [],
   "source": [
    "\n",
    "def output15(smoking,junk_food):\n",
    "  if(smoking<=2 and junk_food<=2 ):\n",
    "    d15.append('Nephritis')\n",
    "  else :\n",
    "    d15.append('ok')\n",
    "  return d15"
   ]
  },
  {
   "cell_type": "code",
   "execution_count": 70,
   "metadata": {
    "colab": {},
    "colab_type": "code",
    "id": "8Z-vPlripQzu"
   },
   "outputs": [],
   "source": [
    "\n",
    "def output16(eight_hours_sleep,hours_spend_on_social_media,sit_in_front_of_computer):\n",
    "  if(eight_hours_sleep==2 and\thours_spend_on_social_media<=2 and sit_in_front_of_computer<=2):\n",
    "    d16.append('Eye Pain')\n",
    "  else :\n",
    "    d16.append('ok')\n",
    "  return d16"
   ]
  },
  {
   "cell_type": "code",
   "execution_count": 71,
   "metadata": {
    "colab": {},
    "colab_type": "code",
    "id": "fc_H45Swup-V"
   },
   "outputs": [],
   "source": [
    "\n",
    "def output17(junk_food,exercise,stress_personal_life_work_life,hours_walk_in_a_day):\n",
    "  if(junk_food<=2 and exercise==1 and stress_personal_life_work_life<=2 and hours_walk_in_a_day==1):\n",
    "    d17.append('Type-II Diabetes')\n",
    "  else :\n",
    "    d17.append('ok')\n",
    "  return d17"
   ]
  },
  {
   "cell_type": "markdown",
   "metadata": {
    "colab": {
     "base_uri": "https://localhost:8080/",
     "height": 340
    },
    "colab_type": "code",
    "id": "YOW5FMWiv3vH",
    "outputId": "c5e3a2a6-c118-4a7a-aeb2-8d70ec370572"
   },
   "source": [
    "# hours_walk_in_a_day=int(input())\n",
    "walk_to_workplace=int(input())\n",
    "smoking=int(input())\n",
    "drinking_alchohol=int(input())\n",
    "hours_sit=int(input())\n",
    "sit_straight=int(input())\n",
    "cushioned_chair_to_sit=int(input())\n",
    "sit_in_front_of_computer=int(input())\n",
    "walk_after_lunch_dinner=int(input())\n",
    "exercise=int(input())\n",
    "junk_food=int(input())\n",
    "eight_hours_sleep=int(input())\n",
    "hours_spend_on_social_media=int(input())\n",
    "stress_personal_life_work_life=int(input())\n",
    "sit_in_traffic_jam=int(input())\n",
    "use_headphones_or_earphones_constantly=int(input())\n",
    "headache=int(input())\n",
    "depression=int(input())\n",
    "tiredness=int(input())"
   ]
  },
  {
   "cell_type": "code",
   "execution_count": 73,
   "metadata": {
    "colab": {},
    "colab_type": "code",
    "id": "1f5b0u1_wfMZ"
   },
   "outputs": [],
   "source": [
    "detected_diseases = []"
   ]
  },
  {
   "cell_type": "code",
   "execution_count": 74,
   "metadata": {
    "colab": {},
    "colab_type": "code",
    "id": "66HmdZZOv5dQ"
   },
   "outputs": [],
   "source": [
    " detected_diseases.extend(output1(eight_hours_sleep,headache,depression,stress_personal_life_work_life))\n",
    " detected_diseases.extend(output2(hours_sit,sit_straight,cushioned_chair_to_sit,sit_in_front_of_computer))\n",
    " detected_diseases.extend(output3(headache,drinking_alchohol))\n",
    " detected_diseases.extend(output4(smoking,junk_food,stress_personal_life_work_life))\n",
    " detected_diseases.extend(output5(hours_walk_in_a_day,walk_to_workplace,exercise,junk_food))\n",
    " detected_diseases.extend(output6(smoking,drinking_alchohol,junk_food,stress_personal_life_work_life))\n",
    " detected_diseases.extend(output7(hours_walk_in_a_day,junk_food,exercise,stress_personal_life_work_life))\n",
    "#  detected_diseases.extend(output8(smoking,junk_food,stress_personal_life_work_life))\n",
    " detected_diseases.extend(output9(sit_in_traffic_jam))\n",
    " detected_diseases.extend(output10(exercise,junk_food,sit_in_traffic_jam))\n",
    " detected_diseases.extend(output11(eight_hours_sleep,junk_food,exercise,smoking))\n",
    " detected_diseases.extend(output12(headache,tiredness))\n",
    " detected_diseases.extend(output13(smoking,\tdrinking_alchohol,\thours_sit,\tsit_straight,\tcushioned_chair_to_sit))\n",
    " detected_diseases.extend(output14(hours_spend_on_social_media,use_headphones_or_earphones_constantly))\n",
    " detected_diseases.extend(output15(smoking,junk_food))\n",
    " detected_diseases.extend(output16(eight_hours_sleep,hours_spend_on_social_media,sit_in_front_of_computer))\n",
    " detected_diseases.extend(output17(junk_food,exercise,stress_personal_life_work_life,hours_walk_in_a_day))\n",
    " "
   ]
  },
  {
   "cell_type": "code",
   "execution_count": 75,
   "metadata": {
    "colab": {
     "base_uri": "https://localhost:8080/",
     "height": 833
    },
    "colab_type": "code",
    "id": "XTiL1k44z8QM",
    "outputId": "c2bdb10b-6a41-4c23-c832-72d1db6dc517"
   },
   "outputs": [
    {
     "data": {
      "text/plain": [
       "['ok',\n",
       " 'ok',\n",
       " 'Stroke',\n",
       " 'atherosclerosis',\n",
       " 'Obesity',\n",
       " 'Heart Disease',\n",
       " 'High Blood Pressure',\n",
       " 'Asthma',\n",
       " 'Chronic obstructive pulmonary disease,',\n",
       " 'ok',\n",
       " 'Chronic renal failure ',\n",
       " 'ok',\n",
       " 'Swimmer’s ear',\n",
       " 'Nephritis',\n",
       " 'ok',\n",
       " 'Type-II Diabetes']"
      ]
     },
     "execution_count": 75,
     "metadata": {},
     "output_type": "execute_result"
    }
   ],
   "source": [
    "detected_diseases"
   ]
  },
  {
   "cell_type": "code",
   "execution_count": 76,
   "metadata": {
    "colab": {
     "base_uri": "https://localhost:8080/",
     "height": 119
    },
    "colab_type": "code",
    "id": "pKedlD027PHK",
    "outputId": "64149f00-e634-4c4b-a4d6-7aeb38c309c8"
   },
   "outputs": [
    {
     "data": {
      "text/plain": [
       "['ok',\n",
       " 'Stroke',\n",
       " 'atherosclerosis',\n",
       " 'Obesity',\n",
       " 'Heart Disease',\n",
       " 'High Blood Pressure',\n",
       " 'Asthma',\n",
       " 'Chronic obstructive pulmonary disease,',\n",
       " 'Chronic renal failure ',\n",
       " 'Swimmer’s ear',\n",
       " 'Nephritis',\n",
       " 'Type-II Diabetes']"
      ]
     },
     "execution_count": 76,
     "metadata": {},
     "output_type": "execute_result"
    }
   ],
   "source": [
    " detected=[]\n",
    "\n",
    "detected.extend(detected_diseases)\n",
    "detected = list(dict.fromkeys(detected))\n",
    "detected"
   ]
  },
  {
   "cell_type": "code",
   "execution_count": 77,
   "metadata": {
    "colab": {},
    "colab_type": "code",
    "id": "aHbZJweS7WG6"
   },
   "outputs": [],
   "source": [
    "\n",
    "final=[]\n",
    "\n",
    "# n= 'ok' in detected_diseases\n",
    "if(len(detected_diseases) == 1 and detected_diseases.index(0)=='ok'):\n",
    "    final.append('No Lifestyle Disease')\n",
    "\n"
   ]
  },
  {
   "cell_type": "code",
   "execution_count": null,
   "metadata": {
    "colab": {},
    "colab_type": "code",
    "id": "yHsLrMeUyB8y"
   },
   "outputs": [],
   "source": [
    "\n"
   ]
  },
  {
   "cell_type": "code",
   "execution_count": 78,
   "metadata": {
    "colab": {},
    "colab_type": "code",
    "id": "zWZAeReGwdeu"
   },
   "outputs": [],
   "source": [
    "if(detected.count('ok') > 0 ):\n",
    "    detected.remove('ok')\n",
    "    final.extend(detected)"
   ]
  },
  {
   "cell_type": "code",
   "execution_count": 79,
   "metadata": {
    "colab": {
     "base_uri": "https://localhost:8080/",
     "height": 102
    },
    "colab_type": "code",
    "id": "KbJuyNF8QBon",
    "outputId": "5f4469b2-a7e0-4ac5-804e-2a6723e62c47"
   },
   "outputs": [
    {
     "data": {
      "text/plain": [
       "['Stroke',\n",
       " 'atherosclerosis',\n",
       " 'Obesity',\n",
       " 'Heart Disease',\n",
       " 'High Blood Pressure',\n",
       " 'Asthma',\n",
       " 'Chronic obstructive pulmonary disease,',\n",
       " 'Chronic renal failure ',\n",
       " 'Swimmer’s ear',\n",
       " 'Nephritis',\n",
       " 'Type-II Diabetes']"
      ]
     },
     "execution_count": 79,
     "metadata": {},
     "output_type": "execute_result"
    }
   ],
   "source": [
    "  final\n"
   ]
  },
  {
   "cell_type": "code",
   "execution_count": 82,
   "metadata": {
    "colab": {},
    "colab_type": "code",
    "id": "knTLRLyW895_"
   },
   "outputs": [],
   "source": [
    "import numpy as np\n",
    "import cv2\n",
    "import matplotlib.pyplot as plt\n",
    "import matplotlib.image as mpig\n",
    "%matplotlib inline\n",
    "from PIL import Image, ImageOps\n",
    "import numpy as np\n",
    "# from google.colab import files\n",
    "import matplotlib.pyplot as plt\n",
    "from skimage.color import rgb2gray\n",
    "from scipy import ndimage\n",
    "import pandas as pd"
   ]
  },
  {
   "cell_type": "code",
   "execution_count": null,
   "metadata": {
    "colab": {},
    "colab_type": "code",
    "id": "Mk6Jxpiy0xV8"
   },
   "outputs": [],
   "source": []
  },
  {
   "cell_type": "code",
   "execution_count": 83,
   "metadata": {
    "colab": {},
    "colab_type": "code",
    "id": "3CQIbmlmAAyZ"
   },
   "outputs": [],
   "source": [
    "data = pd.read_csv('Complete_Lifestyles_Diseases_Treatment_Latest - Sheet1.csv')"
   ]
  },
  {
   "cell_type": "code",
   "execution_count": 84,
   "metadata": {
    "colab": {},
    "colab_type": "code",
    "id": "HJuKy9pyAMFy"
   },
   "outputs": [],
   "source": [
    "#converting dataset into frames\n",
    "df = pd.DataFrame(data)"
   ]
  },
  {
   "cell_type": "code",
   "execution_count": 85,
   "metadata": {
    "colab": {
     "base_uri": "https://localhost:8080/",
     "height": 731
    },
    "colab_type": "code",
    "id": "YpdHKeSQARld",
    "outputId": "445de554-217c-491f-e6db-9e6153d0c18e"
   },
   "outputs": [
    {
     "data": {
      "text/html": [
       "<div>\n",
       "<style scoped>\n",
       "    .dataframe tbody tr th:only-of-type {\n",
       "        vertical-align: middle;\n",
       "    }\n",
       "\n",
       "    .dataframe tbody tr th {\n",
       "        vertical-align: top;\n",
       "    }\n",
       "\n",
       "    .dataframe thead th {\n",
       "        text-align: right;\n",
       "    }\n",
       "</style>\n",
       "<table border=\"1\" class=\"dataframe\">\n",
       "  <thead>\n",
       "    <tr style=\"text-align: right;\">\n",
       "      <th></th>\n",
       "      <th>ID</th>\n",
       "      <th>Disease</th>\n",
       "      <th>Treatment</th>\n",
       "    </tr>\n",
       "  </thead>\n",
       "  <tbody>\n",
       "    <tr>\n",
       "      <th>0</th>\n",
       "      <td>1</td>\n",
       "      <td>Mental illness</td>\n",
       "      <td>Stick to your treatment plan. Don't skip thera...</td>\n",
       "    </tr>\n",
       "    <tr>\n",
       "      <th>1</th>\n",
       "      <td>2</td>\n",
       "      <td>Back Pain</td>\n",
       "      <td>To keep your back healthy and strong\\n\\n.Exerc...</td>\n",
       "    </tr>\n",
       "    <tr>\n",
       "      <th>2</th>\n",
       "      <td>3</td>\n",
       "      <td>Stroke</td>\n",
       "      <td>Wear loose fitting, lightweight clothing. Wea...</td>\n",
       "    </tr>\n",
       "    <tr>\n",
       "      <th>3</th>\n",
       "      <td>4</td>\n",
       "      <td>atherosclerosis</td>\n",
       "      <td>Stop smoking. Smoking damages your arteries If...</td>\n",
       "    </tr>\n",
       "    <tr>\n",
       "      <th>4</th>\n",
       "      <td>5</td>\n",
       "      <td>Obesity</td>\n",
       "      <td>Learning about your condition. Education about...</td>\n",
       "    </tr>\n",
       "    <tr>\n",
       "      <th>5</th>\n",
       "      <td>6</td>\n",
       "      <td>Cirrhosis</td>\n",
       "      <td>Don't drink alcohol. Whether your cirrhosis is...</td>\n",
       "    </tr>\n",
       "    <tr>\n",
       "      <th>6</th>\n",
       "      <td>7</td>\n",
       "      <td>Cancer</td>\n",
       "      <td>Stop smoking. If you smoke, quit. If you don't...</td>\n",
       "    </tr>\n",
       "    <tr>\n",
       "      <th>7</th>\n",
       "      <td>8</td>\n",
       "      <td>Heart Disease</td>\n",
       "      <td>Stop smoking. Smoking is a major risk factor f...</td>\n",
       "    </tr>\n",
       "    <tr>\n",
       "      <th>8</th>\n",
       "      <td>9</td>\n",
       "      <td>High Blood Pressure</td>\n",
       "      <td>Eat healthy foods. Eat a healthy diet. Try the...</td>\n",
       "    </tr>\n",
       "    <tr>\n",
       "      <th>9</th>\n",
       "      <td>10</td>\n",
       "      <td>Type-II Diabetes</td>\n",
       "      <td>Commit to managing your diabetes. Learn all yo...</td>\n",
       "    </tr>\n",
       "    <tr>\n",
       "      <th>10</th>\n",
       "      <td>11</td>\n",
       "      <td>Alzheimer's disease</td>\n",
       "      <td>Engage in intellectual activities like:\\r\\n1.r...</td>\n",
       "    </tr>\n",
       "    <tr>\n",
       "      <th>11</th>\n",
       "      <td>12</td>\n",
       "      <td>Arthritis\\r</td>\n",
       "      <td>Weight loss. If you're obese, losing weight wi...</td>\n",
       "    </tr>\n",
       "    <tr>\n",
       "      <th>12</th>\n",
       "      <td>13</td>\n",
       "      <td>Atherosclerosis</td>\n",
       "      <td>Stop smoking. Smoking damages your arteries. I...</td>\n",
       "    </tr>\n",
       "    <tr>\n",
       "      <th>13</th>\n",
       "      <td>14</td>\n",
       "      <td>Asthma</td>\n",
       "      <td>Use your air conditioner. Air conditioning red...</td>\n",
       "    </tr>\n",
       "    <tr>\n",
       "      <th>14</th>\n",
       "      <td>15</td>\n",
       "      <td>Chronic obstructive pulmonary disease,</td>\n",
       "      <td>Control your breathing. Talk to your doctor or...</td>\n",
       "    </tr>\n",
       "    <tr>\n",
       "      <th>15</th>\n",
       "      <td>16</td>\n",
       "      <td>Metabolic syndrome</td>\n",
       "      <td>Exercise. Doctors recommend getting 30 or more...</td>\n",
       "    </tr>\n",
       "    <tr>\n",
       "      <th>16</th>\n",
       "      <td>17</td>\n",
       "      <td>Chronic renal failure</td>\n",
       "      <td>Avoid products with added salt. Lower the amou...</td>\n",
       "    </tr>\n",
       "    <tr>\n",
       "      <th>17</th>\n",
       "      <td>18</td>\n",
       "      <td>Osteoporosis</td>\n",
       "      <td>Smoking increases rates of bone loss and the c...</td>\n",
       "    </tr>\n",
       "    <tr>\n",
       "      <th>18</th>\n",
       "      <td>19</td>\n",
       "      <td>Swimmer’s ear</td>\n",
       "      <td>Don't use head phones/earphones for th longer ...</td>\n",
       "    </tr>\n",
       "    <tr>\n",
       "      <th>19</th>\n",
       "      <td>20</td>\n",
       "      <td>Nephritis</td>\n",
       "      <td>If you have kidney disease, your doctor may re...</td>\n",
       "    </tr>\n",
       "    <tr>\n",
       "      <th>20</th>\n",
       "      <td>21</td>\n",
       "      <td>Eye Pain</td>\n",
       "      <td>1. Dont't sit continuously in front of the PC/...</td>\n",
       "    </tr>\n",
       "    <tr>\n",
       "      <th>21</th>\n",
       "      <td>22</td>\n",
       "      <td>No Lifestyle Disease</td>\n",
       "      <td>You are a very healthy person.Your eating habi...</td>\n",
       "    </tr>\n",
       "  </tbody>\n",
       "</table>\n",
       "</div>"
      ],
      "text/plain": [
       "    ID                                 Disease  \\\n",
       "0    1                          Mental illness   \n",
       "1    2                               Back Pain   \n",
       "2    3                                  Stroke   \n",
       "3    4                         atherosclerosis   \n",
       "4    5                                 Obesity   \n",
       "5    6                               Cirrhosis   \n",
       "6    7                                  Cancer   \n",
       "7    8                           Heart Disease   \n",
       "8    9                     High Blood Pressure   \n",
       "9   10                        Type-II Diabetes   \n",
       "10  11                     Alzheimer's disease   \n",
       "11  12                             Arthritis\\r   \n",
       "12  13                         Atherosclerosis   \n",
       "13  14                                  Asthma   \n",
       "14  15  Chronic obstructive pulmonary disease,   \n",
       "15  16                      Metabolic syndrome   \n",
       "16  17                  Chronic renal failure    \n",
       "17  18                            Osteoporosis   \n",
       "18  19                           Swimmer’s ear   \n",
       "19  20                               Nephritis   \n",
       "20  21                                Eye Pain   \n",
       "21  22                    No Lifestyle Disease   \n",
       "\n",
       "                                            Treatment  \n",
       "0   Stick to your treatment plan. Don't skip thera...  \n",
       "1   To keep your back healthy and strong\\n\\n.Exerc...  \n",
       "2    Wear loose fitting, lightweight clothing. Wea...  \n",
       "3   Stop smoking. Smoking damages your arteries If...  \n",
       "4   Learning about your condition. Education about...  \n",
       "5   Don't drink alcohol. Whether your cirrhosis is...  \n",
       "6   Stop smoking. If you smoke, quit. If you don't...  \n",
       "7   Stop smoking. Smoking is a major risk factor f...  \n",
       "8   Eat healthy foods. Eat a healthy diet. Try the...  \n",
       "9   Commit to managing your diabetes. Learn all yo...  \n",
       "10  Engage in intellectual activities like:\\r\\n1.r...  \n",
       "11  Weight loss. If you're obese, losing weight wi...  \n",
       "12  Stop smoking. Smoking damages your arteries. I...  \n",
       "13  Use your air conditioner. Air conditioning red...  \n",
       "14  Control your breathing. Talk to your doctor or...  \n",
       "15  Exercise. Doctors recommend getting 30 or more...  \n",
       "16  Avoid products with added salt. Lower the amou...  \n",
       "17  Smoking increases rates of bone loss and the c...  \n",
       "18  Don't use head phones/earphones for th longer ...  \n",
       "19  If you have kidney disease, your doctor may re...  \n",
       "20  1. Dont't sit continuously in front of the PC/...  \n",
       "21  You are a very healthy person.Your eating habi...  "
      ]
     },
     "execution_count": 85,
     "metadata": {},
     "output_type": "execute_result"
    }
   ],
   "source": [
    "df"
   ]
  },
  {
   "cell_type": "code",
   "execution_count": 86,
   "metadata": {
    "colab": {
     "base_uri": "https://localhost:8080/",
     "height": 221
    },
    "colab_type": "code",
    "id": "AhWalfyCAgmI",
    "outputId": "c52456ab-e97a-4835-bd91-7adf9cdad7c4"
   },
   "outputs": [
    {
     "name": "stdout",
     "output_type": "stream",
     "text": [
      "   ID Disease                                          Treatment\n",
      "2   3  Stroke   Wear loose fitting, lightweight clothing. Wea...\n",
      "   ID          Disease                                          Treatment\n",
      "3   4  atherosclerosis  Stop smoking. Smoking damages your arteries If...\n",
      "   ID  Disease                                          Treatment\n",
      "4   5  Obesity  Learning about your condition. Education about...\n",
      "   ID        Disease                                          Treatment\n",
      "7   8  Heart Disease  Stop smoking. Smoking is a major risk factor f...\n",
      "   ID              Disease                                          Treatment\n",
      "8   9  High Blood Pressure  Eat healthy foods. Eat a healthy diet. Try the...\n",
      "    ID Disease                                          Treatment\n",
      "13  14  Asthma  Use your air conditioner. Air conditioning red...\n",
      "    ID                                 Disease  \\\n",
      "14  15  Chronic obstructive pulmonary disease,   \n",
      "\n",
      "                                            Treatment  \n",
      "14  Control your breathing. Talk to your doctor or...  \n",
      "    ID                 Disease  \\\n",
      "16  17  Chronic renal failure    \n",
      "\n",
      "                                            Treatment  \n",
      "16  Avoid products with added salt. Lower the amou...  \n",
      "    ID        Disease                                          Treatment\n",
      "18  19  Swimmer’s ear  Don't use head phones/earphones for th longer ...\n",
      "    ID    Disease                                          Treatment\n",
      "19  20  Nephritis  If you have kidney disease, your doctor may re...\n",
      "   ID           Disease                                          Treatment\n",
      "9  10  Type-II Diabetes  Commit to managing your diabetes. Learn all yo...\n"
     ]
    }
   ],
   "source": [
    "\n",
    "for x in detected:\n",
    "  print(df[df.Disease == x]) "
   ]
  },
  {
   "cell_type": "code",
   "execution_count": 1,
   "metadata": {
    "colab": {
     "base_uri": "https://localhost:8080/",
     "height": 51
    },
    "colab_type": "code",
    "id": "e_6LHhcj2B0m",
    "outputId": "73f2f8f7-11a1-4f3d-90de-10e2b75d42a8"
   },
   "outputs": [],
   "source": [
    "import numpy as np\n",
    "import skfuzzy as fuzz\n",
    "from skfuzzy import control as ctrl"
   ]
  },
  {
   "cell_type": "code",
   "execution_count": 2,
   "metadata": {},
   "outputs": [
    {
     "ename": "SyntaxError",
     "evalue": "invalid character in identifier (<ipython-input-2-3d763613e203>, line 1)",
     "output_type": "error",
     "traceback": [
      "\u001b[1;36m  File \u001b[1;32m\"<ipython-input-2-3d763613e203>\"\u001b[1;36m, line \u001b[1;32m1\u001b[0m\n\u001b[1;33m    walk_to_workplace = ctrl.Antecedent( np.arange(1, 3, 1) , 'walk_to_workplace')\u001b[0m\n\u001b[1;37m                                                      ^\u001b[0m\n\u001b[1;31mSyntaxError\u001b[0m\u001b[1;31m:\u001b[0m invalid character in identifier\n"
     ]
    }
   ],
   "source": [
    "walk_to_workplace = ctrl.Antecedent( np.arange(1, 3, 1) , 'walk_to_workplace') "
   ]
  }
 ],
 "metadata": {
  "colab": {
   "collapsed_sections": [],
   "name": "Prediction_with_questions.ipynb",
   "provenance": []
  },
  "kernelspec": {
   "display_name": "Python 3",
   "language": "python",
   "name": "python3"
  },
  "language_info": {
   "codemirror_mode": {
    "name": "ipython",
    "version": 3
   },
   "file_extension": ".py",
   "mimetype": "text/x-python",
   "name": "python",
   "nbconvert_exporter": "python",
   "pygments_lexer": "ipython3",
   "version": "3.7.3"
  }
 },
 "nbformat": 4,
 "nbformat_minor": 1
}
