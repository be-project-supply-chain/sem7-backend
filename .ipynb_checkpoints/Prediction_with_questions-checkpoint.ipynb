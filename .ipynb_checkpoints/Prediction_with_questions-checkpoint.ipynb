{
 "cells": [
  {
   "cell_type": "code",
   "execution_count": 1,
   "metadata": {
    "colab": {},
    "colab_type": "code",
    "id": "bEShcQL0PWs7"
   },
   "outputs": [],
   "source": [
    "d1=[]\n",
    "d2=[]\n",
    "d3=[]\n",
    "d4=[]\n",
    "d5=[]\n",
    "d6=[]\n",
    "d7=[]\n",
    "# d8=[]\n",
    "d9=[]\n",
    "d10=[]\n",
    "d11=[]\n",
    "d12=[]\n",
    "d13=[]\n",
    "d14=[]\n",
    "d15=[]\n",
    "d16=[]\n",
    "d17=[]"
   ]
  },
  {
   "cell_type": "code",
   "execution_count": null,
   "metadata": {
    "colab": {},
    "colab_type": "code",
    "id": "otvmKCJZ87Pl"
   },
   "outputs": [],
   "source": []
  },
  {
   "cell_type": "code",
   "execution_count": 2,
   "metadata": {
    "colab": {},
    "colab_type": "code",
    "id": "u0c_BoM3bsc4"
   },
   "outputs": [],
   "source": [
    "pow=[]\n",
    "pow.append('hey')"
   ]
  },
  {
   "cell_type": "code",
   "execution_count": 3,
   "metadata": {
    "colab": {},
    "colab_type": "code",
    "id": "FUp0lHG6cBgc"
   },
   "outputs": [],
   "source": [
    "pow.append('llll')"
   ]
  },
  {
   "cell_type": "code",
   "execution_count": 4,
   "metadata": {
    "colab": {
     "base_uri": "https://localhost:8080/",
     "height": 34
    },
    "colab_type": "code",
    "id": "Wwx54zDqcIgi",
    "outputId": "73a53258-0b1c-46dc-c064-16e963562169"
   },
   "outputs": [
    {
     "data": {
      "text/plain": [
       "['hey', 'llll']"
      ]
     },
     "execution_count": 4,
     "metadata": {},
     "output_type": "execute_result"
    }
   ],
   "source": [
    "pow"
   ]
  },
  {
   "cell_type": "code",
   "execution_count": 5,
   "metadata": {
    "colab": {},
    "colab_type": "code",
    "id": "-6NhMsodcQ1g"
   },
   "outputs": [],
   "source": [
    "low=[]\n",
    "low.append('kk')\n",
    "pow.extend(low)"
   ]
  },
  {
   "cell_type": "code",
   "execution_count": 6,
   "metadata": {
    "colab": {
     "base_uri": "https://localhost:8080/",
     "height": 34
    },
    "colab_type": "code",
    "id": "_RuzEoUgwzrk",
    "outputId": "f811b08b-b544-4990-b754-68285bf45cd7"
   },
   "outputs": [
    {
     "data": {
      "text/plain": [
       "True"
      ]
     },
     "execution_count": 6,
     "metadata": {},
     "output_type": "execute_result"
    }
   ],
   "source": [
    "\n",
    "k='llll' in pow\n",
    "k"
   ]
  },
  {
   "cell_type": "code",
   "execution_count": 7,
   "metadata": {
    "colab": {},
    "colab_type": "code",
    "id": "5OXcxyd4dsAI"
   },
   "outputs": [],
   "source": [
    "def output1(eight_hours_sleep,headache,depression,stress_personal_life_work_life):\n",
    "  if(eight_hours_sleep==2 and headache<=2 and depression<=2 and stress_personal_life_work_life<=2):\n",
    "    d1.append('Mental illness')\n",
    "  else :\n",
    "    d1.append('ok')\n",
    "  return d1\n",
    "\n",
    "\n",
    "    "
   ]
  },
  {
   "cell_type": "code",
   "execution_count": 8,
   "metadata": {
    "colab": {},
    "colab_type": "code",
    "id": "s2Uu3m26h1qP"
   },
   "outputs": [],
   "source": [
    "def output2(hours_sit,sit_straight,cushioned_chair_to_sit,sit_in_front_of_computer):\n",
    "  if(hours_sit<=3 and sit_straight==2 and cushioned_chair_to_sit==2 and sit_in_front_of_computer<=3):\n",
    "    d2.append('Back Pain')\n",
    "  else :\n",
    "    d2.append('ok')\n",
    "  return d2\n"
   ]
  },
  {
   "cell_type": "code",
   "execution_count": 9,
   "metadata": {
    "colab": {},
    "colab_type": "code",
    "id": "77Aqu2HgjBem"
   },
   "outputs": [],
   "source": [
    "def output3(headache,drinking_alchohol):\n",
    "  if(drinking_alchohol<=2 and headache==1):\n",
    "    d3.append('Stroke')\n",
    "  else :\n",
    "    d3.append('ok')\n",
    "  return d3"
   ]
  },
  {
   "cell_type": "code",
   "execution_count": 10,
   "metadata": {
    "colab": {},
    "colab_type": "code",
    "id": "DAV9u0aXjBnF"
   },
   "outputs": [],
   "source": [
    "def output4(smoking,junk_food,stress_personal_life_work_life):\n",
    "  if(smoking<=2 and junk_food<=2 and stress_personal_life_work_life==1):\n",
    "    d4.append('atherosclerosis')\n",
    "  else :\n",
    "    d4.append('ok')\n",
    "  return d4"
   ]
  },
  {
   "cell_type": "code",
   "execution_count": 11,
   "metadata": {
    "colab": {},
    "colab_type": "code",
    "id": "gZuip36-jBsu"
   },
   "outputs": [],
   "source": [
    "def output5(hours_walk_in_a_day,walk_to_workplace,exercise,junk_food):\n",
    "  if(hours_walk_in_a_day==1 and walk_to_workplace==1 and exercise==1 and junk_food<=2):\n",
    "    d5.append('Obesity')\n",
    "  else :\n",
    "    d5.append('ok')\n",
    "  return d5\n"
   ]
  },
  {
   "cell_type": "code",
   "execution_count": 12,
   "metadata": {
    "colab": {},
    "colab_type": "code",
    "id": "Y97ZBVwVjB0g"
   },
   "outputs": [],
   "source": [
    "def output6(smoking,drinking_alchohol,junk_food,stress_personal_life_work_life):\n",
    "  if(smoking<=2 and drinking_alchohol <=2 and junk_food<=2 and stress_personal_life_work_life==1):\n",
    "    d6.append('Heart Disease')\n",
    "  else :\n",
    "    d6.append('ok')\n",
    "  return d6"
   ]
  },
  {
   "cell_type": "code",
   "execution_count": 13,
   "metadata": {
    "colab": {},
    "colab_type": "code",
    "id": "aRjTw7psjB5_"
   },
   "outputs": [],
   "source": [
    "def output7(hours_walk_in_a_day,junk_food,exercise,stress_personal_life_work_life):\n",
    "  if(hours_walk_in_a_day==1 and junk_food<=2 and exercise==1 and stress_personal_life_work_life<=2):\n",
    "    d7.append('High Blood Pressure')\n",
    "  else :\n",
    "    d7.append('ok')\n",
    "  return d7"
   ]
  },
  {
   "cell_type": "code",
   "execution_count": 14,
   "metadata": {
    "colab": {},
    "colab_type": "code",
    "id": "jc1JWucGjB87"
   },
   "outputs": [],
   "source": [
    "\n",
    "# def output8(smoking,junk_food,stress_personal_life_work_life):\n",
    "#   if(smoking<=2 and junk_food<=2 and stress_personal_life_work_life<=2):\n",
    "#     d8.append('Atherosclerosis')\n",
    "#   else :\n",
    "#     d8.append('ok')\n",
    "#   return d8"
   ]
  },
  {
   "cell_type": "code",
   "execution_count": 15,
   "metadata": {
    "colab": {},
    "colab_type": "code",
    "id": "FSOfbz9wjB3u"
   },
   "outputs": [],
   "source": [
    "\n",
    "def output9(sit_in_traffic_jam):\n",
    "  if(sit_in_traffic_jam==1):\n",
    "    d9.append('Asthma')\n",
    "  else :\n",
    "    d9.append('ok')\n",
    "  return d9"
   ]
  },
  {
   "cell_type": "code",
   "execution_count": 16,
   "metadata": {
    "colab": {},
    "colab_type": "code",
    "id": "ewK6wTnBoMMK"
   },
   "outputs": [],
   "source": [
    "\n",
    "def output10(exercise,junk_food,sit_in_traffic_jam):\n",
    "  if(exercise==1 and junk_food<=2 and sit_in_traffic_jam==1):\n",
    "    d10.append('Chronic obstructive pulmonary disease,')\n",
    "  else :\n",
    "    d10.append('ok')\n",
    "  return d10"
   ]
  },
  {
   "cell_type": "code",
   "execution_count": 17,
   "metadata": {
    "colab": {},
    "colab_type": "code",
    "id": "WuUeDi3MoNIr"
   },
   "outputs": [],
   "source": [
    "\n",
    "def output11(eight_hours_sleep,junk_food,exercise,smoking):\n",
    "  if(eight_hours_sleep==2 and junk_food<=2 and exercise==1 and smoking<=2):\n",
    "    d11.append('Metabolic syndrome')\n",
    "  else :\n",
    "    d11.append('ok')\n",
    "  return d11"
   ]
  },
  {
   "cell_type": "code",
   "execution_count": 18,
   "metadata": {
    "colab": {},
    "colab_type": "code",
    "id": "tLS9US-1oPGY"
   },
   "outputs": [],
   "source": [
    "\n",
    "def output12(headache,tiredness):\n",
    "  if(headache<=2 and tiredness<=2):\n",
    "    d12.append('Chronic renal failure ')\n",
    "  else :\n",
    "    d12.append('ok')\n",
    "  return d12"
   ]
  },
  {
   "cell_type": "code",
   "execution_count": 19,
   "metadata": {
    "colab": {},
    "colab_type": "code",
    "id": "56kBbXM-oQNr"
   },
   "outputs": [],
   "source": [
    "\n",
    "def output13(smoking,\tdrinking_alchohol,\thours_sit,\tsit_straight,\tcushioned_chair_to_sit):\n",
    "  if(smoking<=2 and\tdrinking_alchohol<=2 and\thours_sit<=2 and\tsit_straight==2\tand cushioned_chair_to_sit==2):\n",
    "    d13.append('Osteoporosis')\n",
    "  else :\n",
    "    d13.append('ok')\n",
    "  return d13"
   ]
  },
  {
   "cell_type": "code",
   "execution_count": 20,
   "metadata": {
    "colab": {},
    "colab_type": "code",
    "id": "5Rtof3rloRXk"
   },
   "outputs": [],
   "source": [
    "\n",
    "def output14(hours_spend_on_social_media,use_headphones_or_earphones_constantly):\n",
    "  if(hours_spend_on_social_media<=2 and use_headphones_or_earphones_constantly<=2):\n",
    "    d14.append('Swimmer’s ear')\n",
    "  else :\n",
    "    d14.append('ok')\n",
    "  return d14\n",
    "  "
   ]
  },
  {
   "cell_type": "code",
   "execution_count": 21,
   "metadata": {
    "colab": {},
    "colab_type": "code",
    "id": "yG5g4HqqpQit"
   },
   "outputs": [],
   "source": [
    "\n",
    "def output15(smoking,junk_food):\n",
    "  if(smoking<=2 and junk_food<=2 ):\n",
    "    d15.append('Nephritis')\n",
    "  else :\n",
    "    d15.append('ok')\n",
    "  return d15"
   ]
  },
  {
   "cell_type": "code",
   "execution_count": 22,
   "metadata": {
    "colab": {},
    "colab_type": "code",
    "id": "8Z-vPlripQzu"
   },
   "outputs": [],
   "source": [
    "\n",
    "def output16(eight_hours_sleep,hours_spend_on_social_media,sit_in_front_of_computer):\n",
    "  if(eight_hours_sleep==2 and\thours_spend_on_social_media<=2 and sit_in_front_of_computer<=2):\n",
    "    d16.append('Eye Pain')\n",
    "  else :\n",
    "    d16.append('ok')\n",
    "  return d16"
   ]
  },
  {
   "cell_type": "code",
   "execution_count": 23,
   "metadata": {
    "colab": {},
    "colab_type": "code",
    "id": "fc_H45Swup-V"
   },
   "outputs": [],
   "source": [
    "\n",
    "def output17(junk_food,exercise,stress_personal_life_work_life,hours_walk_in_a_day):\n",
    "  if(junk_food<=2 and exercise==1 and stress_personal_life_work_life<=2 and hours_walk_in_a_day==1):\n",
    "    d17.append('Type-II Diabetes')\n",
    "  else :\n",
    "    d17.append('ok')\n",
    "  return d17"
   ]
  },
  {
   "cell_type": "code",
   "execution_count": 24,
   "metadata": {
    "colab": {
     "base_uri": "https://localhost:8080/",
     "height": 340
    },
    "colab_type": "code",
    "id": "YOW5FMWiv3vH",
    "outputId": "c5e3a2a6-c118-4a7a-aeb2-8d70ec370572"
   },
   "outputs": [
    {
     "name": "stdout",
     "output_type": "stream",
     "text": [
      "abc\n"
     ]
    },
    {
     "ename": "ValueError",
     "evalue": "invalid literal for int() with base 10: 'abc'",
     "output_type": "error",
     "traceback": [
      "\u001b[1;31m---------------------------------------------------------------------------\u001b[0m",
      "\u001b[1;31mValueError\u001b[0m                                Traceback (most recent call last)",
      "\u001b[1;32m<ipython-input-24-6f19678f2784>\u001b[0m in \u001b[0;36m<module>\u001b[1;34m\u001b[0m\n\u001b[1;32m----> 1\u001b[1;33m \u001b[0mhours_walk_in_a_day\u001b[0m\u001b[1;33m=\u001b[0m\u001b[0mint\u001b[0m\u001b[1;33m(\u001b[0m\u001b[0minput\u001b[0m\u001b[1;33m(\u001b[0m\u001b[1;33m)\u001b[0m\u001b[1;33m)\u001b[0m\u001b[1;33m\u001b[0m\u001b[1;33m\u001b[0m\u001b[0m\n\u001b[0m\u001b[0;32m      2\u001b[0m \u001b[0mwalk_to_workplace\u001b[0m\u001b[1;33m=\u001b[0m\u001b[0mint\u001b[0m\u001b[1;33m(\u001b[0m\u001b[0minput\u001b[0m\u001b[1;33m(\u001b[0m\u001b[1;33m)\u001b[0m\u001b[1;33m)\u001b[0m\u001b[1;33m\u001b[0m\u001b[1;33m\u001b[0m\u001b[0m\n\u001b[0;32m      3\u001b[0m \u001b[0msmoking\u001b[0m \u001b[1;33m=\u001b[0m\u001b[0mint\u001b[0m\u001b[1;33m(\u001b[0m\u001b[0minput\u001b[0m\u001b[1;33m(\u001b[0m\u001b[1;33m)\u001b[0m\u001b[1;33m)\u001b[0m\u001b[1;33m\u001b[0m\u001b[1;33m\u001b[0m\u001b[0m\n\u001b[0;32m      4\u001b[0m \u001b[0mdrinking_alchohol\u001b[0m\u001b[1;33m=\u001b[0m\u001b[0mint\u001b[0m\u001b[1;33m(\u001b[0m\u001b[0minput\u001b[0m\u001b[1;33m(\u001b[0m\u001b[1;33m)\u001b[0m\u001b[1;33m)\u001b[0m\u001b[1;33m\u001b[0m\u001b[1;33m\u001b[0m\u001b[0m\n\u001b[0;32m      5\u001b[0m \u001b[0mhours_sit\u001b[0m       \u001b[1;33m=\u001b[0m\u001b[0mint\u001b[0m\u001b[1;33m(\u001b[0m\u001b[0minput\u001b[0m\u001b[1;33m(\u001b[0m\u001b[1;33m)\u001b[0m\u001b[1;33m)\u001b[0m\u001b[1;33m\u001b[0m\u001b[1;33m\u001b[0m\u001b[0m\n",
      "\u001b[1;31mValueError\u001b[0m: invalid literal for int() with base 10: 'abc'"
     ]
    }
   ],
   "source": [
    "hours_walk_in_a_day=int(input())\n",
    "walk_to_workplace=int(input())\n",
    "smoking=int(input())\n",
    "drinking_alchohol=int(input())\n",
    "hours_sit=int(input())\n",
    "sit_straight=int(input())\n",
    "cushioned_chair_to_sit=int(input())\n",
    "sit_in_front_of_computer=int(input())\n",
    "walk_after_lunch_dinner=int(input())\n",
    "exercise\t=int(input())\n",
    "junk_food\t=int(input())\n",
    "eight_hours_sleep=int(input())\n",
    "hours_spend_on_social_media=int(input())\t\n",
    "stress_personal_life_work_life\t=int(input())\n",
    "sit_in_traffic_jam\t=int(input())\n",
    "use_headphones_or_earphones_constantly=int(input())\n",
    "headache\t=int(input())\n",
    "depression\t=int(input())\n",
    "tiredness=int(input())"
   ]
  },
  {
   "cell_type": "code",
   "execution_count": null,
   "metadata": {
    "colab": {},
    "colab_type": "code",
    "id": "1f5b0u1_wfMZ"
   },
   "outputs": [],
   "source": [
    "detected_diseases = []"
   ]
  },
  {
   "cell_type": "code",
   "execution_count": null,
   "metadata": {
    "colab": {},
    "colab_type": "code",
    "id": "66HmdZZOv5dQ"
   },
   "outputs": [],
   "source": [
    " detected_diseases.extend(output1(eight_hours_sleep,headache,depression,stress_personal_life_work_life))\n",
    " detected_diseases.extend(output2(hours_sit,sit_straight,cushioned_chair_to_sit,sit_in_front_of_computer))\n",
    " detected_diseases.extend(output3(headache,drinking_alchohol))\n",
    " detected_diseases.extend(output4(smoking,junk_food,stress_personal_life_work_life))\n",
    " detected_diseases.extend(output5(hours_walk_in_a_day,walk_to_workplace,exercise,junk_food))\n",
    " detected_diseases.extend(output6(smoking,drinking_alchohol,junk_food,stress_personal_life_work_life))\n",
    " detected_diseases.extend(output7(hours_walk_in_a_day,junk_food,exercise,stress_personal_life_work_life))\n",
    "#  detected_diseases.extend(output8(smoking,junk_food,stress_personal_life_work_life))\n",
    " detected_diseases.extend(output9(sit_in_traffic_jam))\n",
    " detected_diseases.extend(output10(exercise,junk_food,sit_in_traffic_jam))\n",
    " detected_diseases.extend(output11(eight_hours_sleep,junk_food,exercise,smoking))\n",
    " detected_diseases.extend(output12(headache,tiredness))\n",
    " detected_diseases.extend(output13(smoking,\tdrinking_alchohol,\thours_sit,\tsit_straight,\tcushioned_chair_to_sit))\n",
    " detected_diseases.extend(output14(hours_spend_on_social_media,use_headphones_or_earphones_constantly))\n",
    " detected_diseases.extend(output15(smoking,junk_food))\n",
    " detected_diseases.extend(output16(eight_hours_sleep,hours_spend_on_social_media,sit_in_front_of_computer))\n",
    " detected_diseases.extend(output17(junk_food,exercise,stress_personal_life_work_life,hours_walk_in_a_day))\n",
    " "
   ]
  },
  {
   "cell_type": "code",
   "execution_count": null,
   "metadata": {
    "colab": {
     "base_uri": "https://localhost:8080/",
     "height": 833
    },
    "colab_type": "code",
    "id": "XTiL1k44z8QM",
    "outputId": "c2bdb10b-6a41-4c23-c832-72d1db6dc517"
   },
   "outputs": [],
   "source": [
    "detected_diseases"
   ]
  },
  {
   "cell_type": "code",
   "execution_count": null,
   "metadata": {
    "colab": {
     "base_uri": "https://localhost:8080/",
     "height": 119
    },
    "colab_type": "code",
    "id": "pKedlD027PHK",
    "outputId": "64149f00-e634-4c4b-a4d6-7aeb38c309c8"
   },
   "outputs": [],
   "source": [
    " detected=[]\n",
    "\n",
    "detected.extend(detected_diseases)\n",
    "detected = list(dict.fromkeys(detected))\n",
    "detected"
   ]
  },
  {
   "cell_type": "code",
   "execution_count": null,
   "metadata": {
    "colab": {},
    "colab_type": "code",
    "id": "aHbZJweS7WG6"
   },
   "outputs": [],
   "source": [
    "\n",
    "final=[]\n",
    "\n",
    "# n= 'ok' in detected_diseases\n",
    "if(len(detected_diseases) == 1 and detected_diseases.index(0)=='ok'):\n",
    " {\n",
    "    final.append('No Lifestyle Disease\t')\n",
    " }\n",
    "\n",
    " \n",
    "# detected_diseases\n",
    "\n"
   ]
  },
  {
   "cell_type": "code",
   "execution_count": null,
   "metadata": {
    "colab": {},
    "colab_type": "code",
    "id": "yHsLrMeUyB8y"
   },
   "outputs": [],
   "source": [
    "\n"
   ]
  },
  {
   "cell_type": "code",
   "execution_count": null,
   "metadata": {
    "colab": {},
    "colab_type": "code",
    "id": "zWZAeReGwdeu"
   },
   "outputs": [],
   "source": [
    "if(detected.count('ok') > 0 ):\n",
    "  {\n",
    "    detected.remove('ok')\n",
    "  }\n",
    "\n",
    "  final.extend(detected)"
   ]
  },
  {
   "cell_type": "code",
   "execution_count": null,
   "metadata": {
    "colab": {
     "base_uri": "https://localhost:8080/",
     "height": 102
    },
    "colab_type": "code",
    "id": "KbJuyNF8QBon",
    "outputId": "5f4469b2-a7e0-4ac5-804e-2a6723e62c47"
   },
   "outputs": [],
   "source": [
    "  final\n"
   ]
  },
  {
   "cell_type": "code",
   "execution_count": null,
   "metadata": {
    "colab": {},
    "colab_type": "code",
    "id": "knTLRLyW895_"
   },
   "outputs": [],
   "source": [
    "import numpy as np\n",
    "import cv2\n",
    "import matplotlib.pyplot as plt\n",
    "import matplotlib.image as mpig\n",
    "%matplotlib inline\n",
    "from PIL import Image, ImageOps\n",
    "import numpy as np\n",
    "from google.colab import files\n",
    "import matplotlib.pyplot as plt\n",
    "from skimage.color import rgb2gray\n",
    "from scipy import ndimage\n",
    "import pandas as pd"
   ]
  },
  {
   "cell_type": "code",
   "execution_count": null,
   "metadata": {
    "colab": {},
    "colab_type": "code",
    "id": "Mk6Jxpiy0xV8"
   },
   "outputs": [],
   "source": []
  },
  {
   "cell_type": "code",
   "execution_count": null,
   "metadata": {
    "colab": {},
    "colab_type": "code",
    "id": "3CQIbmlmAAyZ"
   },
   "outputs": [],
   "source": [
    "data = pd.read_csv('Complete_Lifestyles_Diseases_Treatment_Latest - Sheet1.csv')"
   ]
  },
  {
   "cell_type": "code",
   "execution_count": null,
   "metadata": {
    "colab": {},
    "colab_type": "code",
    "id": "HJuKy9pyAMFy"
   },
   "outputs": [],
   "source": [
    "#converting dataset into frames\n",
    "df = pd.DataFrame(data)"
   ]
  },
  {
   "cell_type": "code",
   "execution_count": null,
   "metadata": {
    "colab": {
     "base_uri": "https://localhost:8080/",
     "height": 731
    },
    "colab_type": "code",
    "id": "YpdHKeSQARld",
    "outputId": "445de554-217c-491f-e6db-9e6153d0c18e"
   },
   "outputs": [],
   "source": [
    "df"
   ]
  },
  {
   "cell_type": "code",
   "execution_count": null,
   "metadata": {
    "colab": {
     "base_uri": "https://localhost:8080/",
     "height": 221
    },
    "colab_type": "code",
    "id": "AhWalfyCAgmI",
    "outputId": "c52456ab-e97a-4835-bd91-7adf9cdad7c4"
   },
   "outputs": [],
   "source": [
    "\n",
    "for x in detected:\n",
    "  print(df[df.Disease == x]) "
   ]
  },
  {
   "cell_type": "code",
   "execution_count": null,
   "metadata": {
    "colab": {
     "base_uri": "https://localhost:8080/",
     "height": 51
    },
    "colab_type": "code",
    "id": "e_6LHhcj2B0m",
    "outputId": "73f2f8f7-11a1-4f3d-90de-10e2b75d42a8"
   },
   "outputs": [],
   "source": []
  }
 ],
 "metadata": {
  "colab": {
   "collapsed_sections": [],
   "name": "Prediction_with_questions.ipynb",
   "provenance": []
  },
  "kernelspec": {
   "display_name": "Python 3",
   "language": "python",
   "name": "python3"
  },
  "language_info": {
   "codemirror_mode": {
    "name": "ipython",
    "version": 3
   },
   "file_extension": ".py",
   "mimetype": "text/x-python",
   "name": "python",
   "nbconvert_exporter": "python",
   "pygments_lexer": "ipython3",
   "version": "3.7.3"
  }
 },
 "nbformat": 4,
 "nbformat_minor": 1
}
